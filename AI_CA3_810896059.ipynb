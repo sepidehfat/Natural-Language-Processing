{
 "cells": [
  {
   "cell_type": "code",
   "execution_count": 1,
   "id": "diagnostic-amazon",
   "metadata": {},
   "outputs": [
    {
     "data": {
      "text/html": [
       "<style>.text_cell .rendered_html * {direction: rtl; text-align: right;}</style>\n"
      ],
      "text/plain": [
       "<IPython.core.display.HTML object>"
      ]
     },
     "metadata": {},
     "output_type": "display_data"
    }
   ],
   "source": [
    "%%html\n",
    "<style>.text_cell .rendered_html * {direction: rtl; text-align: right;}</style>"
   ]
  },
  {
   "cell_type": "markdown",
   "id": "sensitive-cowboy",
   "metadata": {},
   "source": [
    "## مقدمه"
   ]
  },
  {
   "cell_type": "markdown",
   "id": "extreme-poker",
   "metadata": {},
   "source": [
    "در این پروژه می خواهیم با استفاده از Naive Bayes classifirer و با داشتن بخشی از متن یک کتاب و همچنین تیتر آن، دسته بندی کتاب را پیش بینی کنیم."
   ]
  },
  {
   "cell_type": "markdown",
   "id": "right-remove",
   "metadata": {},
   "source": [
    "ابتدا به خواندن و بررسی داده ها می پردازیم. در این پروژه به دلیل این که با داده های متنی سر و کار داریم ابتدا باید داده ها را پیش پردازش کنیم و سپس مدل را آموزش دهیم و با استفاده از داده های تست دقت مدل را به دست آوریم."
   ]
  },
  {
   "cell_type": "markdown",
   "id": "administrative-marker",
   "metadata": {},
   "source": [
    "ابتدا کتاب خانه های مورد نیاز را import می کنیم."
   ]
  },
  {
   "cell_type": "code",
   "execution_count": 2,
   "id": "moved-aaron",
   "metadata": {},
   "outputs": [],
   "source": [
    "import time\n",
    "import pandas as pd\n",
    "from hazm import *\n",
    "from collections import Counter\n",
    "import numpy as np\n",
    "import matplotlib.pyplot as plt"
   ]
  },
  {
   "cell_type": "markdown",
   "id": "comic-summer",
   "metadata": {},
   "source": [
    "# سوال ۱)"
   ]
  },
  {
   "cell_type": "markdown",
   "id": "ideal-tractor",
   "metadata": {},
   "source": [
    "## فاز اول: پیش پردازش داده ها"
   ]
  },
  {
   "cell_type": "markdown",
   "id": "conventional-permit",
   "metadata": {},
   "source": [
    "در این قسمت از کتابخانه ی هضم استفاده می کنیم. \n",
    "هر داده  ورودی که می خواهیم از آن برای آموزش مدل استفاده کنیم یک text می باشد. در این مدل سازی مکان کلمه ها در جمله و نقش آن ها برای ما اهمیتی ندارد و در این روش تنها مهم این است که تعداد استفاده از یک کلمه در یک کلاس چیست.  \n",
    "برای پیش پردازش داده ها از موارد زیر استفاده می کنیم:  \n"
   ]
  },
  {
   "cell_type": "markdown",
   "id": "scientific-independence",
   "metadata": {},
   "source": [
    "#### word tokenizer"
   ]
  },
  {
   "cell_type": "markdown",
   "id": "alleged-hospital",
   "metadata": {},
   "source": [
    " با استفاده از این متد داده متنی را به کلمه هایی تبدیل می کنیم که با کاما از هم جدا شده اند.  \n",
    "برای مثال برای جمله زیر داریم:  \n",
    "\n",
    "text:  «جیرجیرک و مورچه» از مجموعه کتاب‌های داستانک‌های آموزنده فرانسه-فارسی برای زبان‌آموزان رده سنی ۸ تا ۱۲ سال است.\n",
    "\n",
    "word tokenize : ['«', 'جیرجیرک', 'و', 'مورچه', '»', 'از', 'مجموعه', 'کتاب\\u200cهای', 'داستانک\\u200cهای', 'آموزنده', 'فرانسه-فارسی', 'برای', 'زبان\\u200cآموزان', 'رده', 'سنی', '۸', 'تا', '۱۲', 'سال', 'است', '.']\n"
   ]
  },
  {
   "cell_type": "markdown",
   "id": "boolean-convenience",
   "metadata": {},
   "source": [
    "#### جایگذاری نیم فاصله "
   ]
  },
  {
   "cell_type": "markdown",
   "id": "robust-elder",
   "metadata": {},
   "source": [
    "به دلیل این که در متد های بعدی کلمه هایی که \\u200c داشتند را حذف می کرد بنابر این باید آن ها را جایگزین کنیم.   \n",
    "word tokenize : ['«', 'جیرجیرک', 'و', 'مورچه', '»', 'از', 'مجموعه', 'کتاب\\u200cهای', 'داستانک\\u200cهای', 'آموزنده', 'فرانسه-فارسی', 'برای', 'زبان\\u200cآموزان', 'رده', 'سنی', '۸', 'تا', '۱۲', 'سال', 'است', '.']\n",
    "  \n",
    "nim fasele:  ['«', 'جیرجیرک', 'و', 'مورچه', '»', 'از', 'مجموعه', 'کتاب های', 'داستانک های', 'آموزنده', 'فرانسه-فارسی', 'برای', 'زبان آموزان', 'رده', 'سنی', '۸', 'تا', '۱۲', 'سال', 'است', '.']  \n",
    "ولی در نهایت استفاده نکردن از این روش تغییری در جواب نهایی ایجاد نکرد.\n"
   ]
  },
  {
   "cell_type": "markdown",
   "id": "boxed-constitution",
   "metadata": {},
   "source": [
    "#### isalpha"
   ]
  },
  {
   "cell_type": "markdown",
   "id": "corresponding-harassment",
   "metadata": {},
   "source": [
    "کاراکتر هایی مثل '!', '-', ',' , \\r , '<<' , '>>', اعداد و ...   را حذف می کند.  \n",
    "alpha:     ['جیرجیرک', 'و', 'مورچه', 'از', 'مجموعه', 'آموزنده', 'برای', 'رده', 'سنی', 'تا', 'سال', 'است']\n"
   ]
  },
  {
   "cell_type": "markdown",
   "id": "controlled-mounting",
   "metadata": {},
   "source": [
    "#### stemmer"
   ]
  },
  {
   "cell_type": "markdown",
   "id": "permanent-deadline",
   "metadata": {},
   "source": [
    " بخش اضافی کلمات (مخصوصا موارد مربوط به انتهای کلمه) را حذف می کند. مثلا ان، ی،... \n",
    " به عنوان مثال کلمه بالاتر را به بالا تبدیل می کند.\n",
    " به نوعی تلاش می کند که اصل کلمه را نگه دارد.\n",
    "  البته در همه مواقع خوب عمل نمی کند مثلا برای کلمه <عنوان> <ان> انتهای کلمه را حذف می کند و به <عنو> تبدیل می کند که بی معنی است.  \n",
    "  و کلمه <معتقدان> را به <معتقد> تبدیل می کند که تغییر مناسب و کمک کننده ای است.  \n",
    "  به طور کلی وقتی از این روش استفاده می کردم تغییر چشم گیری در نتیجه حاصل نمی شد به نوعی تاثیر مثبتی که داشت با شکستن بیش از اندازه کلمات از بین می رفت و در نهایت برای ما بی تاثیر می شد."
   ]
  },
  {
   "cell_type": "markdown",
   "id": "compatible-highway",
   "metadata": {},
   "source": [
    "#### lemmatizer"
   ]
  },
  {
   "cell_type": "markdown",
   "id": "latter-coating",
   "metadata": {},
   "source": [
    "کلمه را به ریشه های آن تبدیل می کند به عنوان مثال برای فعل ها هر دو بن فعل را نگه می دارد مثلا  'گذاشت' را به 'گذاشت#گذار' تبدیل می کند. در این صورت هر نوعی از این فعل را داشته باشیم آن رابه همین فرم در می آورد. \n",
    "به دلیل این که به قواعد دستور زبان مربوط می شود برای هر زبانی باید به طور جداگانه پیاده سازی شود. در این جا از کتابخانه هضم استفاده کردیم.\n",
    "مثال دیگر:  \n",
    "'دویدیم' -> 'دوید#دو' "
   ]
  },
  {
   "cell_type": "markdown",
   "id": "severe-george",
   "metadata": {},
   "source": [
    "####  stop words"
   ]
  },
  {
   "cell_type": "markdown",
   "id": "comparable-elizabeth",
   "metadata": {},
   "source": [
    "کلمه ها و حرف های اضافه پر تکراری که در هر متنی استفاده می شود را حذف می کنیم .\n",
    "بخشی از این کلمات را در ادامه می بینیم:  \n",
    "['کاملا', 'داشتن', 'نظیر', 'آمده', 'گروهی', 'فردی', 'ع', 'همچون', 'خطر', 'خویش', 'کدام', 'دسته', 'سبب', 'عین', 'آوری', 'متاسفانه', 'بیرون', 'دار', 'ابتدا', 'شش', 'افرادی', 'می\\u200cگویند', 'سالهای', 'درون', 'نیستند', 'یافته_است', 'پر', 'خاطرنشان', 'گاه', 'جمعی', 'اغلب', 'دوباره', 'می\\u200cیابد', 'لذا', 'زاده', 'گردد', 'اینجا']\n"
   ]
  },
  {
   "cell_type": "markdown",
   "id": "developing-agency",
   "metadata": {},
   "source": [
    "### clean_text"
   ]
  },
  {
   "cell_type": "markdown",
   "id": "solar-multimedia",
   "metadata": {},
   "source": [
    "برای پیش پردازش داده ها در نهایت پس از بررسی همه موارد به این نتیجه رسیدم که سه مورد استفاده شده بیشترین تاثیر را دارند و فقط از همین ها استفاده کردم."
   ]
  },
  {
   "cell_type": "code",
   "execution_count": 3,
   "id": "elementary-defeat",
   "metadata": {},
   "outputs": [],
   "source": [
    "normalizer = Normalizer()\n",
    "stemmer = Stemmer()\n",
    "lemmatizer = Lemmatizer()\n",
    "\n",
    "def clean_text(text):\n",
    "    words = word_tokenize(text)\n",
    "#     words = [w.replace('\\u200c', '') for w in words]\n",
    "#     words = [w.replace('-', '') for w in words]\n",
    "#     words = [normalizer.normalize(w) for w in words]\n",
    "#     words = [stemmer.stem(w) for w in words]\n",
    "#     words = [lemmatizer.lemmatize(w) for w in words]\n",
    "    words = [w for w in words if w.isalpha()]\n",
    "    STOPS = set(stopwords_list())\n",
    "    words = [w for w in words if not w in STOPS]\n",
    "    return words"
   ]
  },
  {
   "cell_type": "markdown",
   "id": "placed-account",
   "metadata": {},
   "source": [
    "# سوال ۲)"
   ]
  },
  {
   "cell_type": "markdown",
   "id": "developing-humidity",
   "metadata": {},
   "source": [
    "## Naive Bayes"
   ]
  },
  {
   "cell_type": "markdown",
   "id": "visible-survival",
   "metadata": {},
   "source": [
    "$$ \\frac {P(x|c)P(C)} {P(x)} = P(c|x) $$"
   ]
  },
  {
   "cell_type": "markdown",
   "id": "southern-saint",
   "metadata": {},
   "source": [
    "برای به دست آوردن کلاس یک داده  باید احتمال هر کلاس را برای آن داده به دست آوریم و در نهایت کلاسی که بیشترین احتمال را دارد انتخاب کنیم."
   ]
  },
  {
   "cell_type": "markdown",
   "id": "going-dialogue",
   "metadata": {},
   "source": [
    "$$ (c_j|x_i)P $$   \n",
    "likelihood: به این معنی است که احتمال کلاس به شرط مشاهده داده. یعنی برای یکxi description احتمال این که در کتگوری مثلا cj باشد چقدر است.  \n",
    "در کدآن را به صورت words_count_cat[category][word]/ len(words_cat[category]) \n",
    "یعنی تعداد تکرار کلمه word در کلاس category تقسیم بر کل کلمه های کلاس کتگوری."
   ]
  },
  {
   "cell_type": "markdown",
   "id": "downtown-stand",
   "metadata": {},
   "source": [
    "$$ (c_j)P $$  \n",
    "Prior: احتمال کلاس cj که می شود تعداد کلمه های کلاس cjتقسیم بر تعداد کل کلمه های همه کلاس ها\n",
    "\n",
    "به دلیل این که تعداد کلمه های همه کلاس ها با هم برابر است پس این احتمال برای همه کلاس ها برابر با ۱/۶ می شود."
   ]
  },
  {
   "cell_type": "markdown",
   "id": "hungry-purpose",
   "metadata": {},
   "source": [
    "$$P(x)$$\n",
    "evidance: احتمال کلمه xi که به دلیل این که مخرج در همه احتمالات یکسان است دیگر آن را محاسبه نمی کنیم."
   ]
  },
  {
   "cell_type": "markdown",
   "id": "subjective-carbon",
   "metadata": {},
   "source": [
    "بنابر این با درنظر نگرفتن مخرج فرمول بالا به صورت زیر در می آید. \n",
    "$$ P(c|X) = P(x_1|c) P(x_2|c) .... P(x_n|c) P(c)$$"
   ]
  },
  {
   "cell_type": "markdown",
   "id": "spread-flesh",
   "metadata": {},
   "source": [
    "که اگر احتمال بالا را برای همه کلاس ها به دست آوریم. کلاسی که بیشترین احتمال را دارد جواب مسئله می باشد."
   ]
  },
  {
   "cell_type": "markdown",
   "id": "signal-payment",
   "metadata": {},
   "source": [
    "کتگوری ها کلاس ها و دیسکریپشن هر کتاب داده های ورودی می باشند.  \n",
    "ابتدا مدل را با استفاده از داده های آموزشی ، train می کنیم. \n",
    "به این صورت که :  \n",
    "ابتدا داده ها را بر اساس کلاس آن ها جدا می کنیم.   \n",
    "سپس کلمات هر کلاس را به دست می آوریم و در دیکشنری word_cat ذخیره می کنیم.  \n",
    "با استفاده از counter تعداد تکرار های هر کلمه در هر کلاس را به دست می آوریم. و در دیکشنری  word_count_cat ذخیره می کنیم."
   ]
  },
  {
   "cell_type": "code",
   "execution_count": 4,
   "id": "seven-husband",
   "metadata": {},
   "outputs": [],
   "source": [
    "def train(data_train, categories):\n",
    "    words_cat = {}\n",
    "    words_count_cat = {}\n",
    "    for category in categories:\n",
    "        temp = (data_train[data_train['categories'] == category]['description'])\n",
    "        words_cat[category] = [element for t in temp for element in t]\n",
    "        words_count_cat[category] = Counter(words_cat[category])\n",
    "    return words_cat,words_count_cat"
   ]
  },
  {
   "cell_type": "code",
   "execution_count": 5,
   "id": "environmental-participant",
   "metadata": {},
   "outputs": [],
   "source": [
    "def test(data_test, categories, words_cat, words_count_cat, type):\n",
    "    p_x_cat= {}\n",
    "    predictions = []\n",
    "    alpha = 1.5\n",
    "    for row in data_test['description']:\n",
    "        p_x_cat.clear()\n",
    "        for category in categories:\n",
    "            temp = 1\n",
    "            for word in row:\n",
    "                if type == 'smoothing':\n",
    "                    temp *= ((words_count_cat[category][word] + alpha) / (len(words_cat[category])/100 + alpha*len(row)))\n",
    "                if type == 'simple':\n",
    "                    temp *= ((words_count_cat[category][word]) / (len(words_cat[category])/100))\n",
    "            p_x_cat[category] = temp\n",
    "        predictions.append(max(p_x_cat, key=p_x_cat.get))\n",
    "    return predictions"
   ]
  },
  {
   "cell_type": "markdown",
   "id": "beginning-hawaiian",
   "metadata": {},
   "source": [
    "برای همه تعداد کلمات یک کلاس به دلیل این که این مقدار به نسبت تعداد یک کلمه در کلاس بسیار زیاد بود حتا با  smoothing  هم به دلیل این که مخرج بزرگ بود و خود احتمال عدد کوچکی به دست می آمد، مقدار آن را برای همه کلاس ها تقسیم بر ۱۰۰ کردم.  "
   ]
  },
  {
   "cell_type": "markdown",
   "id": "stunning-southwest",
   "metadata": {},
   "source": [
    "به جای این کار می توانستیم  از احتمالات  log  بگیریم و  max log را به دست بیاوریم.در این صورت به دلیل این که لگاریتم در استفاده کرده ایم برابر با این می شود که جمع لوگاریتم ها را به دست آوریم و در نهایت ماکسیمم بگیریم.  \n",
    "که به صورت زیر در می آمد:"
   ]
  },
  {
   "cell_type": "code",
   "execution_count": 6,
   "id": "gothic-referral",
   "metadata": {},
   "outputs": [],
   "source": [
    "# temp += np.log((words_count_cat[category][word]) / (len(words_cat[category])"
   ]
  },
  {
   "cell_type": "markdown",
   "id": "successful-huntington",
   "metadata": {},
   "source": [
    "# سوال ۳)"
   ]
  },
  {
   "cell_type": "markdown",
   "id": "continent-contest",
   "metadata": {},
   "source": [
    "مثالی از داده های داده شده: \n",
    "کلمه جابرابن سمره  در حالت unigram  به صورت 'جابر', 'بن', 'سمره'  می باشد  که در این صورت معنی نمی دهد. و متوجه نمی شویم که یک اسم است.  \n",
    "در حالی که اگر 3gram داشتیم کلمه به صورت  جابر ابن سمره در می آمد.   \n",
    "مثال دیگر چشم انداز  است که اگر bigram داشتیم معنی واقعی کلمه را دربرمی گرفت ولی الان به  چشم و انداز تقسیم شده است که معنی کاملا متفاوتی دارند.  \n",
    "انتخاب این که برای مدل gram  چندتایی باید درنظر بگیریم را با استفاده از داده های validation  می توان انجام داد. و هرکدام که خطای کمتری داشت را به عنوان پارامتر مناسب درنظر گرف.\n"
   ]
  },
  {
   "cell_type": "markdown",
   "id": "original-january",
   "metadata": {},
   "source": [
    "# سوال ۴)"
   ]
  },
  {
   "cell_type": "markdown",
   "id": "incorporated-invention",
   "metadata": {},
   "source": [
    "برای استفاده از الگوریتم NAive Bayes  احتمال ها را در هم ضرب می کردیم.   \n",
    "دو حالت زیر را در نظر می گیریم:  \n",
    "    ۱) یک کلمه در هیچ کدام از کلاس ها نباشد:‌  \n",
    "    در این صورت P(x|c) برای همه کلاس ها صفر می شود. یعنی آن کلمه در هیچ کدام از کلاس ها که با داده های آموزشی تشکیل داده شده اند قرار ندارد.   \n",
    "    در این حالت P(c|x)   هم برای آن نمونه تست، صفر می شود و در نتیجه مدل ما نمی تواند کلاس مناسب آن داده را به دست آورد.  \n",
    "    ۲) یک کلمه از یک نمونه تست فقط در یکی از کلاس ها وجود دارد:  \n",
    "    در این حالت P(x|c) برای همان کلاسی که کلمه را دارد مقدار دارد و برای بقیه کلاس ها صفر است. در این صورت حتا اگر تعداد تکرار های بقیه کلمه ها در کلاس های دیگر زیاد باشد ولی چون یک کلمه را نداشتند احتمالشان صفر می شود. و مدل نمی تواند به درستی کلاس را تشخیص دهد.  \n",
    "    در واقع اگر کلمه ای فقط در یک کلاس باشد، بدون توجه به بقیه کلمه های آن نمونه، مدل ما کلاس آن داده را همان کلاسی تشخیص می دهد که آن یک کلمه در آن وجود داشت."
   ]
  },
  {
   "cell_type": "markdown",
   "id": "resident-rebecca",
   "metadata": {},
   "source": [
    "# سوال ۵) additive smoothing"
   ]
  },
  {
   "cell_type": "markdown",
   "id": "attempted-coalition",
   "metadata": {},
   "source": [
    "additive smoothing  یا laplace smoothing  برای از بین بردن مشکلی که در بخش قبل گفته شد به کار می رود.  \n",
    "یعنی هنگام محاسبه P(x|c) با اضافه کردن ترمی در صورت و مخرج آن از صفر شدن آن جلوگیری می کنیم. در این صورت اگر کلمه ای در یک کلاس وجود نداشت مقدار احتمال را صفر نمی دهد. "
   ]
  },
  {
   "cell_type": "markdown",
   "id": "disciplinary-niger",
   "metadata": {},
   "source": [
    " $$ P(w|c) =\\frac {\\text{number of word w in category c}+\\alpha} {\\text{number of words in category c}+ {\\alpha * \\text{number of words in category c}}}  $$"
   ]
  },
  {
   "cell_type": "markdown",
   "id": "enhanced-thought",
   "metadata": {},
   "source": [
    "## اجرای برنامه"
   ]
  },
  {
   "cell_type": "code",
   "execution_count": 7,
   "id": "given-shower",
   "metadata": {},
   "outputs": [
    {
     "name": "stdout",
     "output_type": "stream",
     "text": [
      "time =   2.707751989364624\n"
     ]
    }
   ],
   "source": [
    "t1 = time.time()\n",
    "data_train = pd.read_csv('books_train.csv')\n",
    "data_test = pd.read_csv('books_test.csv')\n",
    "data_train['description'] = data_train['description'].apply(clean_text)\n",
    "data_test['description'] = data_test['description'].apply(clean_text)\n",
    "categories = data_train['categories'].unique()\n",
    "words_cat,words_count_cat = train(data_train, categories)\n",
    "t2 = time.time()\n",
    "print('time =  ', t2-t1)"
   ]
  },
  {
   "cell_type": "markdown",
   "id": "plain-oxygen",
   "metadata": {},
   "source": [
    "## simple Test:"
   ]
  },
  {
   "cell_type": "code",
   "execution_count": 8,
   "id": "recent-angola",
   "metadata": {},
   "outputs": [
    {
     "name": "stdout",
     "output_type": "stream",
     "text": [
      "acc = 25.77777777777778 %\n"
     ]
    }
   ],
   "source": [
    "predictions_simple = test(data_test, categories, words_cat, words_count_cat, 'simple')\n",
    "accuracy = np.sum(predictions_simple == data_test['categories']) / (len(data_test))\n",
    "print(f'acc = {accuracy*100} %')"
   ]
  },
  {
   "cell_type": "markdown",
   "id": "involved-synthetic",
   "metadata": {},
   "source": [
    "## additive smoothing test:  \n",
    "همان طور که مشاهده می شود دقت در این حالت ۸۰ درصد شده است."
   ]
  },
  {
   "cell_type": "code",
   "execution_count": 9,
   "id": "conditional-gateway",
   "metadata": {},
   "outputs": [
    {
     "name": "stdout",
     "output_type": "stream",
     "text": [
      "acc = 80.22222222222221 %\n"
     ]
    }
   ],
   "source": [
    "predictions = test(data_test, categories, words_cat, words_count_cat, 'smoothing')\n",
    "accuracy = np.sum(predictions == data_test['categories']) / (len(data_test))\n",
    "print(f'acc = {accuracy*100} %')"
   ]
  },
  {
   "cell_type": "markdown",
   "id": "intended-punishment",
   "metadata": {},
   "source": [
    "# سوال ۶)"
   ]
  },
  {
   "cell_type": "code",
   "execution_count": 10,
   "id": "supported-adams",
   "metadata": {},
   "outputs": [
    {
     "data": {
      "image/png": "[encoded data removed]",
      "text/plain": [
       "<Figure size 432x288 with 1 Axes>"
      ]
     },
     "metadata": {
      "needs_background": "light"
     },
     "output_type": "display_data"
    },
    {
     "data": {
      "image/png": "[encoded data removed]",
      "text/plain": [
       "<Figure size 432x288 with 1 Axes>"
      ]
     },
     "metadata": {
      "needs_background": "light"
     },
     "output_type": "display_data"
    },
    {
     "data": {
      "image/png": "[encoded data removed]",
      "text/plain": [
       "<Figure size 432x288 with 1 Axes>"
      ]
     },
     "metadata": {
      "needs_background": "light"
     },
     "output_type": "display_data"
    },
    {
     "data": {
      "image/png": "[encoded data removed]",
      "text/plain": [
       "<Figure size 432x288 with 1 Axes>"
      ]
     },
     "metadata": {
      "needs_background": "light"
     },
     "output_type": "display_data"
    },
    {
     "data": {
      "image/png": "[encoded data removed]",
      "text/plain": [
       "<Figure size 432x288 with 1 Axes>"
      ]
     },
     "metadata": {
      "needs_background": "light"
     },
     "output_type": "display_data"
    },
    {
     "data": {
      "image/png": "[encoded data removed]",
      "text/plain": [
       "<Figure size 432x288 with 1 Axes>"
      ]
     },
     "metadata": {
      "needs_background": "light"
     },
     "output_type": "display_data"
    }
   ],
   "source": [
    "for c in categories:\n",
    "    plt.figure()\n",
    "    plt.title(c)\n",
    "    temp = (words_count_cat[c].most_common(5))\n",
    "    keys = [k[0] for k in temp]\n",
    "    values = [v[1] for v in temp]\n",
    "    plt.bar(keys, values)\n",
    "    plt.show()"
   ]
  },
  {
   "cell_type": "markdown",
   "id": "classified-element",
   "metadata": {},
   "source": [
    "# سوال ۷)"
   ]
  },
  {
   "cell_type": "markdown",
   "id": "active-sewing",
   "metadata": {},
   "source": [
    "conffusion matrix: ماتریسی است که در هر ستون مقدار حقیقی آن کلاس ور در هسر مقدار پیش بینی شده را نشاد می دهد.\n",
    "    همان طور که مشاهده می شود در قطر اصلی اعداد بزرگ تر هستند به دلیل این که دقت مدل ما ۸۰ درصد بود و اکثر کلاس ها درست تشخیص داده شده اند.  \n",
    "    همچنین می توان متوجه شد که مثلا کتاب های جامعه شناسی اغلب اشتباه تشخیص داده شده اند.  \n",
    "    همچنین دسته رمان و داستان کوتاه هم به نسبت زیاد با یکدیگر اشتباه تشخیص داده شده اند که همچین مشکلی طبیعی و قابل حدس بود چرا که این دو ژانر بسیار شبیه به هم هستند. \n",
    "   و همچنین به نظر می رسد که کلیات اسلام خوب تشخیص داده شده است چون در ستون کلیات اسلام مقدار آن برای سطر کلیات اسلام زیاد و برای بقیه سطر ها بسیار کم می باشد.  \n",
    "    در ادامه بیشتر توضیح داده خواهد شد."
   ]
  },
  {
   "cell_type": "markdown",
   "id": "expired-klein",
   "metadata": {},
   "source": [
    "این ماتریس به صورت دستی به شکل زیر پیاده سازی می شود.\n",
    "و سپس با استفاده از کتابخانه پانداس  صحت آن را بررسی می کنیم."
   ]
  },
  {
   "cell_type": "code",
   "execution_count": 11,
   "id": "sufficient-clothing",
   "metadata": {},
   "outputs": [
    {
     "data": {
      "text/html": [
       "<div>\n",
       "<style scoped>\n",
       "    .dataframe tbody tr th:only-of-type {\n",
       "        vertical-align: middle;\n",
       "    }\n",
       "\n",
       "    .dataframe tbody tr th {\n",
       "        vertical-align: top;\n",
       "    }\n",
       "\n",
       "    .dataframe thead th {\n",
       "        text-align: right;\n",
       "    }\n",
       "</style>\n",
       "<table border=\"1\" class=\"dataframe\">\n",
       "  <thead>\n",
       "    <tr style=\"text-align: right;\">\n",
       "      <th></th>\n",
       "      <th>جامعه‌شناسی</th>\n",
       "      <th>کلیات اسلام</th>\n",
       "      <th>داستان کودک و نوجوانان</th>\n",
       "      <th>داستان کوتاه</th>\n",
       "      <th>مدیریت و کسب و کار</th>\n",
       "      <th>رمان</th>\n",
       "    </tr>\n",
       "  </thead>\n",
       "  <tbody>\n",
       "    <tr>\n",
       "      <th>جامعه‌شناسی</th>\n",
       "      <td>64.0</td>\n",
       "      <td>1.0</td>\n",
       "      <td>3.0</td>\n",
       "      <td>1.0</td>\n",
       "      <td>5.0</td>\n",
       "      <td>1.0</td>\n",
       "    </tr>\n",
       "    <tr>\n",
       "      <th>کلیات اسلام</th>\n",
       "      <td>10.0</td>\n",
       "      <td>62.0</td>\n",
       "      <td>2.0</td>\n",
       "      <td>1.0</td>\n",
       "      <td>0.0</td>\n",
       "      <td>0.0</td>\n",
       "    </tr>\n",
       "    <tr>\n",
       "      <th>داستان کودک و نوجوانان</th>\n",
       "      <td>0.0</td>\n",
       "      <td>2.0</td>\n",
       "      <td>68.0</td>\n",
       "      <td>3.0</td>\n",
       "      <td>0.0</td>\n",
       "      <td>2.0</td>\n",
       "    </tr>\n",
       "    <tr>\n",
       "      <th>داستان کوتاه</th>\n",
       "      <td>4.0</td>\n",
       "      <td>1.0</td>\n",
       "      <td>9.0</td>\n",
       "      <td>49.0</td>\n",
       "      <td>1.0</td>\n",
       "      <td>11.0</td>\n",
       "    </tr>\n",
       "    <tr>\n",
       "      <th>مدیریت و کسب و کار</th>\n",
       "      <td>7.0</td>\n",
       "      <td>0.0</td>\n",
       "      <td>0.0</td>\n",
       "      <td>0.0</td>\n",
       "      <td>68.0</td>\n",
       "      <td>0.0</td>\n",
       "    </tr>\n",
       "    <tr>\n",
       "      <th>رمان</th>\n",
       "      <td>7.0</td>\n",
       "      <td>1.0</td>\n",
       "      <td>4.0</td>\n",
       "      <td>12.0</td>\n",
       "      <td>1.0</td>\n",
       "      <td>50.0</td>\n",
       "    </tr>\n",
       "  </tbody>\n",
       "</table>\n",
       "</div>"
      ],
      "text/plain": [
       "                        جامعه‌شناسی  کلیات اسلام  داستان کودک و نوجوانان  \\\n",
       "جامعه‌شناسی                    64.0          1.0                     3.0   \n",
       "کلیات اسلام                    10.0         62.0                     2.0   \n",
       "داستان کودک و نوجوانان          0.0          2.0                    68.0   \n",
       "داستان کوتاه                    4.0          1.0                     9.0   \n",
       "مدیریت و کسب و کار              7.0          0.0                     0.0   \n",
       "رمان                            7.0          1.0                     4.0   \n",
       "\n",
       "                        داستان کوتاه  مدیریت و کسب و کار  رمان  \n",
       "جامعه‌شناسی                      1.0                 5.0   1.0  \n",
       "کلیات اسلام                      1.0                 0.0   0.0  \n",
       "داستان کودک و نوجوانان           3.0                 0.0   2.0  \n",
       "داستان کوتاه                    49.0                 1.0  11.0  \n",
       "مدیریت و کسب و کار               0.0                68.0   0.0  \n",
       "رمان                            12.0                 1.0  50.0  "
      ]
     },
     "execution_count": 11,
     "metadata": {},
     "output_type": "execute_result"
    }
   ],
   "source": [
    "conf_matrix = np.zeros(shape=(len(categories), len(categories)))\n",
    "conf_df = pd.DataFrame(conf_matrix, columns=categories, index=categories)\n",
    "\n",
    "for c in categories:\n",
    "    for row in range(len(predictions)):\n",
    "        if data_test['categories'][row] == predictions[row] == c:\n",
    "            conf_df[c][c] += 1\n",
    "        elif data_test['categories'][row] != predictions[row] and data_test['categories'][row] == c:\n",
    "            conf_df[predictions[row]][c] += 1\n",
    "conf_df"
   ]
  },
  {
   "cell_type": "code",
   "execution_count": 12,
   "id": "everyday-coupon",
   "metadata": {},
   "outputs": [],
   "source": [
    "def confusion_matrix(data_test,predictions):\n",
    "    df_confusion = pd.crosstab( data_test['categories'].reset_index(drop=True), pd.Series(predictions))\n",
    "    return df_confusion"
   ]
  },
  {
   "cell_type": "code",
   "execution_count": 13,
   "id": "timely-companion",
   "metadata": {},
   "outputs": [],
   "source": [
    "def RP(df_confusion,categories):\n",
    "    recall = {}\n",
    "    precision = {}\n",
    "    for c in categories:\n",
    "        precision[c] = df_confusion[c][c] / df_confusion.sum(axis=0)[c]\n",
    "        recall[c] = df_confusion[c][c] / df_confusion.sum(axis=1)[c]\n",
    "    return recall,precision"
   ]
  },
  {
   "cell_type": "markdown",
   "id": "incorporate-actor",
   "metadata": {},
   "source": [
    "### Recall"
   ]
  },
  {
   "cell_type": "markdown",
   "id": "failing-nicholas",
   "metadata": {},
   "source": [
    "برای کلاس c مقدار recall برابر است با تعداد پیش بینی های درست کلاس  تقسیم بر  تعداد واقعی آن کلاس  که همان تعداد پیش بینی های درست به اضافه تعداد پیش بینی های غلط برای کلاس c است.  \n",
    "از روی confusion matrix بالا مخرج برای recall برابر است با مجموع ستون هر کلاس"
   ]
  },
  {
   "cell_type": "markdown",
   "id": "minor-blond",
   "metadata": {},
   "source": [
    "$$  Recall = \\frac {\\text{correct detected class}} {\\text{total class}} = \\frac {\\text {True pos}} {\\text{True pos + False Negative}}$$"
   ]
  },
  {
   "cell_type": "markdown",
   "id": "diverse-jonathan",
   "metadata": {},
   "source": [
    "### Precision"
   ]
  },
  {
   "cell_type": "markdown",
   "id": "plastic-eight",
   "metadata": {},
   "source": [
    "برای کلاس c مقدار percision برابر است با تعداد پیشبینی های درست کلاس c تقسیم بر تعداد داده هایی که کلاس آن ها c تشخیص\n",
    "داده شده (چه درست و چه غلط)"
   ]
  },
  {
   "cell_type": "markdown",
   "id": "minimal-pattern",
   "metadata": {},
   "source": [
    "از روی confusion matrix بالا مخرج برای precision برابر است با مجموع سطر هر کلاس"
   ]
  },
  {
   "cell_type": "markdown",
   "id": "dried-printer",
   "metadata": {},
   "source": [
    "$$  Precision = \\frac {\\text{correct detected class}} {\\text{all detected class}} = \\frac {\\text {True pos}} {\\text{True pos + False pos}}$$"
   ]
  },
  {
   "cell_type": "markdown",
   "id": "furnished-oakland",
   "metadata": {},
   "source": [
    "## تحلیل recall  و precision "
   ]
  },
  {
   "cell_type": "markdown",
   "id": "danish-payment",
   "metadata": {},
   "source": [
    "مثلا کلاس مدیریت کسب و کار را در نظر بگیرید.\n",
    "مقدار recall  برای این کلاس به این معنی است که از بین داده هایی که کلاس آن ها واقعا مدیریت کسب و کار بوده چه درصدی درست پیش بینی شده اند\n",
    "که همان طور که مشاهده می شود مقدار آن ۹۰ درصد و بسیار زیاد است و این را از ماتریس confusion  هم قابل مشاهده بود.\n",
    "مثلا برای کلاس جامعه شناسی: مقدار recall آن بالا است به این معنی که از بین داده هایی که واقعا در کلاس جامعه شناسی بوده اند درصد خوبی درست تشخیص داده شده اند."
   ]
  },
  {
   "cell_type": "markdown",
   "id": "meaningful-myrtle",
   "metadata": {},
   "source": [
    "از طرف دیگر مقدار precision  برای کلاس جامعه شناسی به این معنی است که از بین همه داده هایی که کلاس آن ها جامعه شناسی پیش بینی شده،چه درصدی واقعا کلاس آن ها جامعه شناسی بوده. \n",
    "که مشاهده می شود این مقدار برای کلاس جامعه شناسی ۶۰ درصد و کم است.\n",
    "از ماتریس هم مشخص بود که تعداد پیش بینی های غلط برای کلاس جامعه شناسی زیاد بود."
   ]
  },
  {
   "cell_type": "markdown",
   "id": "still-roots",
   "metadata": {},
   "source": [
    "زیاد بودن  به تنهایی کافی نیست. به دلیل این که همان طور که توضیح داده شد :  \n",
    "برای precision : مثلا وقتی پیش بینی می کنیم که  کلاس یک داده رمان است اگر precision بالا باشد یعنی احتمال این که کلاس آن داده واقعا رمان باشد زیاد است و احتمال این که اشتباه گفته باشیم کم است.  \n",
    "\n",
    "برای recall:  ولی مثلا اگر recall برای کلاس رمان زیاد باشد به این معنی است که اگر یک داده واقعا در کلاس رمان باشد درصد بالایی احتمال دارد که کلاس رمان برای آن پیش بینی شود."
   ]
  },
  {
   "cell_type": "markdown",
   "id": "modern-accommodation",
   "metadata": {},
   "source": [
    "بنابر این مطلوب ما بالا بودن recall و precision   به طور همزمان است."
   ]
  },
  {
   "cell_type": "markdown",
   "id": "nervous-psychiatry",
   "metadata": {},
   "source": [
    "# سوال ۸)"
   ]
  },
  {
   "cell_type": "markdown",
   "id": "cosmetic-night",
   "metadata": {},
   "source": [
    "به این منظور از F score  استفاده می کنیم:  \n",
    "    "
   ]
  },
  {
   "cell_type": "markdown",
   "id": "eligible-mayor",
   "metadata": {},
   "source": [
    "$$  F1 = \\frac {\\text{2* Precision*Recall}} {\\text{Precision}+ \\text{Recall}}$$"
   ]
  },
  {
   "cell_type": "markdown",
   "id": "judicial-thickness",
   "metadata": {},
   "source": [
    "در این حالت هر دو P و R باید زیاد باشند تا مقدار خطا کم باشد و دقت بالا باشد.  \n",
    "در این حالت هرکدام از P و R کم باشند مقدار F1 کم خواهد بود.  \n",
    "در F1 از harmonic mean استفاده می شود به این صورت عمل می کند که به مقداری که کوچک تر است وزن بیشتری می دهد.و در واقع کم بودن هر کدام از آن ها در مقدار نهایی تاثیر می دهد."
   ]
  },
  {
   "cell_type": "markdown",
   "id": "chief-framing",
   "metadata": {},
   "source": [
    "فرمول بالا برای ۲ کلاس است و پس از محاسبه آن به تعداد کلاس ها f1 score خواهیم داشت برای تبدیل آن به یک عدد از روش های بخش بعد استفاده می کنیم."
   ]
  },
  {
   "cell_type": "code",
   "execution_count": 14,
   "id": "double-tractor",
   "metadata": {},
   "outputs": [],
   "source": [
    "def F_score(precision, recall, categories):\n",
    "    F_score = {}\n",
    "    for c in categories:\n",
    "        F_score[c] = (2 * precision[c] * recall[c]) / ( precision[c] + recall[c])\n",
    "    return F_score"
   ]
  },
  {
   "cell_type": "markdown",
   "id": "vertical-taste",
   "metadata": {},
   "source": [
    "# سوال ۹)"
   ]
  },
  {
   "cell_type": "markdown",
   "id": "beautiful-processor",
   "metadata": {},
   "source": [
    "### macro F1"
   ]
  },
  {
   "cell_type": "markdown",
   "id": "bizarre-outdoors",
   "metadata": {},
   "source": [
    "مجموع همه F1 score  ها تقسیم بر تعداد کلاس ها  \n",
    "در این روش به همه کلاس ها وزن یکسان می دهد"
   ]
  },
  {
   "cell_type": "code",
   "execution_count": 15,
   "id": "convertible-indicator",
   "metadata": {},
   "outputs": [],
   "source": [
    "def Macro_F(F_score, categories):\n",
    "    macro_F1 = sum(F_score.values())/len(categories)\n",
    "    print('macro_F1 = ', macro_F1)\n",
    "    return macro_F1"
   ]
  },
  {
   "cell_type": "markdown",
   "id": "aggressive-clark",
   "metadata": {},
   "source": [
    "### weighted F1"
   ]
  },
  {
   "cell_type": "markdown",
   "id": "champion-mediterranean",
   "metadata": {},
   "source": [
    "در این حالت به هر کلاس یک وزنی می دهیم. و وزن هر کلاس برابر است با تعداد نمونه های آن کلاس."
   ]
  },
  {
   "cell_type": "markdown",
   "id": "finished-territory",
   "metadata": {},
   "source": [
    "ابتدا تعداد نمونه های هر کلاس را برای داده تست به دست می آوریم."
   ]
  },
  {
   "cell_type": "code",
   "execution_count": 16,
   "id": "interpreted-martial",
   "metadata": {},
   "outputs": [],
   "source": [
    "def Weighted_F(data_test, F_score, categories):\n",
    "    data_test_classification = data_test['description'].groupby(data_test['categories']).agg('count')\n",
    "    sum_weighted_F1 = 1\n",
    "    for c in categories:\n",
    "        sum_weighted_F1 += (data_test_classification[c] * F_score[c])\n",
    "    weighted_F1 = sum_weighted_F1 / sum(data_test_classification)\n",
    "    print('weighted_F1 = ', weighted_F1)\n",
    "    return weighted_F1"
   ]
  },
  {
   "cell_type": "markdown",
   "id": "integrated-opening",
   "metadata": {},
   "source": [
    "### micro F1"
   ]
  },
  {
   "cell_type": "markdown",
   "id": "isolated-expense",
   "metadata": {},
   "source": [
    "$$ \\frac {\\text {total True Pos}} {\\text {total True Pos} + \\text {total False Pos}} $$"
   ]
  },
  {
   "cell_type": "code",
   "execution_count": 17,
   "id": "waiting-compression",
   "metadata": {},
   "outputs": [],
   "source": [
    "def Micro_F(df_confusion, categories):\n",
    "    TP = 0\n",
    "    FP = 0\n",
    "    for c in categories:\n",
    "        TP += df_confusion[c][c]\n",
    "        FP += df_confusion.drop(c, axis=0).sum(axis=0)[c]\n",
    "    micro = TP/(TP+FP)\n",
    "    return micro"
   ]
  },
  {
   "cell_type": "markdown",
   "id": "impaired-accommodation",
   "metadata": {},
   "source": [
    "# سوال ۱۰)"
   ]
  },
  {
   "cell_type": "markdown",
   "id": "funded-diabetes",
   "metadata": {},
   "source": [
    "# نتایج بدون استفاده از smoothing"
   ]
  },
  {
   "cell_type": "markdown",
   "id": "personal-pocket",
   "metadata": {},
   "source": [
    "مقادیر بالا را برای نتیجه بدون استفاده از smoothing به دست می آوریم:\n",
    "    "
   ]
  },
  {
   "cell_type": "code",
   "execution_count": 18,
   "id": "applied-retrieval",
   "metadata": {},
   "outputs": [
    {
     "data": {
      "text/html": [
       "<div>\n",
       "<style scoped>\n",
       "    .dataframe tbody tr th:only-of-type {\n",
       "        vertical-align: middle;\n",
       "    }\n",
       "\n",
       "    .dataframe tbody tr th {\n",
       "        vertical-align: top;\n",
       "    }\n",
       "\n",
       "    .dataframe thead th {\n",
       "        text-align: right;\n",
       "    }\n",
       "</style>\n",
       "<table border=\"1\" class=\"dataframe\">\n",
       "  <thead>\n",
       "    <tr style=\"text-align: right;\">\n",
       "      <th>col_0</th>\n",
       "      <th>جامعه‌شناسی</th>\n",
       "      <th>داستان کوتاه</th>\n",
       "      <th>داستان کودک و نوجوانان</th>\n",
       "      <th>رمان</th>\n",
       "      <th>مدیریت و کسب و کار</th>\n",
       "      <th>کلیات اسلام</th>\n",
       "    </tr>\n",
       "    <tr>\n",
       "      <th>categories</th>\n",
       "      <th></th>\n",
       "      <th></th>\n",
       "      <th></th>\n",
       "      <th></th>\n",
       "      <th></th>\n",
       "      <th></th>\n",
       "    </tr>\n",
       "  </thead>\n",
       "  <tbody>\n",
       "    <tr>\n",
       "      <th>جامعه‌شناسی</th>\n",
       "      <td>75</td>\n",
       "      <td>0</td>\n",
       "      <td>0</td>\n",
       "      <td>0</td>\n",
       "      <td>0</td>\n",
       "      <td>0</td>\n",
       "    </tr>\n",
       "    <tr>\n",
       "      <th>داستان کوتاه</th>\n",
       "      <td>70</td>\n",
       "      <td>2</td>\n",
       "      <td>1</td>\n",
       "      <td>1</td>\n",
       "      <td>0</td>\n",
       "      <td>1</td>\n",
       "    </tr>\n",
       "    <tr>\n",
       "      <th>داستان کودک و نوجوانان</th>\n",
       "      <td>51</td>\n",
       "      <td>0</td>\n",
       "      <td>23</td>\n",
       "      <td>1</td>\n",
       "      <td>0</td>\n",
       "      <td>0</td>\n",
       "    </tr>\n",
       "    <tr>\n",
       "      <th>رمان</th>\n",
       "      <td>75</td>\n",
       "      <td>0</td>\n",
       "      <td>0</td>\n",
       "      <td>0</td>\n",
       "      <td>0</td>\n",
       "      <td>0</td>\n",
       "    </tr>\n",
       "    <tr>\n",
       "      <th>مدیریت و کسب و کار</th>\n",
       "      <td>71</td>\n",
       "      <td>0</td>\n",
       "      <td>0</td>\n",
       "      <td>1</td>\n",
       "      <td>3</td>\n",
       "      <td>0</td>\n",
       "    </tr>\n",
       "    <tr>\n",
       "      <th>کلیات اسلام</th>\n",
       "      <td>62</td>\n",
       "      <td>0</td>\n",
       "      <td>0</td>\n",
       "      <td>0</td>\n",
       "      <td>0</td>\n",
       "      <td>13</td>\n",
       "    </tr>\n",
       "  </tbody>\n",
       "</table>\n",
       "</div>"
      ],
      "text/plain": [
       "col_0                   جامعه‌شناسی  داستان کوتاه  داستان کودک و نوجوانان  \\\n",
       "categories                                                                  \n",
       "جامعه‌شناسی                      75             0                       0   \n",
       "داستان کوتاه                     70             2                       1   \n",
       "داستان کودک و نوجوانان           51             0                      23   \n",
       "رمان                             75             0                       0   \n",
       "مدیریت و کسب و کار               71             0                       0   \n",
       "کلیات اسلام                      62             0                       0   \n",
       "\n",
       "col_0                   رمان  مدیریت و کسب و کار  کلیات اسلام  \n",
       "categories                                                     \n",
       "جامعه‌شناسی                0                   0            0  \n",
       "داستان کوتاه               1                   0            1  \n",
       "داستان کودک و نوجوانان     1                   0            0  \n",
       "رمان                       0                   0            0  \n",
       "مدیریت و کسب و کار         1                   3            0  \n",
       "کلیات اسلام                0                   0           13  "
      ]
     },
     "execution_count": 18,
     "metadata": {},
     "output_type": "execute_result"
    }
   ],
   "source": [
    "confusion_matrix_s = confusion_matrix(data_test,predictions_simple)\n",
    "confusion_matrix_s"
   ]
  },
  {
   "cell_type": "code",
   "execution_count": 19,
   "id": "finite-writer",
   "metadata": {},
   "outputs": [
    {
     "data": {
      "text/plain": [
       "{'جامعه\\u200cشناسی': 1.0,\n",
       " 'کلیات اسلام': 0.17333333333333334,\n",
       " 'داستان کودک و نوجوانان': 0.30666666666666664,\n",
       " 'داستان کوتاه': 0.02666666666666667,\n",
       " 'مدیریت و کسب و کار': 0.04,\n",
       " 'رمان': 0.0}"
      ]
     },
     "execution_count": 19,
     "metadata": {},
     "output_type": "execute_result"
    }
   ],
   "source": [
    "recall_s , precision_s = RP(confusion_matrix_s, categories)\n",
    "recall_s"
   ]
  },
  {
   "cell_type": "code",
   "execution_count": 20,
   "id": "compound-somerset",
   "metadata": {},
   "outputs": [
    {
     "data": {
      "text/plain": [
       "{'جامعه\\u200cشناسی': 0.18564356435643564,\n",
       " 'کلیات اسلام': 0.9285714285714286,\n",
       " 'داستان کودک و نوجوانان': 0.9583333333333334,\n",
       " 'داستان کوتاه': 1.0,\n",
       " 'مدیریت و کسب و کار': 1.0,\n",
       " 'رمان': 0.0}"
      ]
     },
     "execution_count": 20,
     "metadata": {},
     "output_type": "execute_result"
    }
   ],
   "source": [
    "precision_s"
   ]
  },
  {
   "cell_type": "markdown",
   "id": "hybrid-guyana",
   "metadata": {},
   "source": [
    "در این جا کلاس رمان به دلیل این که پیش بینی درستی نداشته است بنابر این مقدار آن صفر است و  F score آن چون تقسیم بر  صفر دارد قابل محاسبه نمی باشد."
   ]
  },
  {
   "cell_type": "code",
   "execution_count": 21,
   "id": "fleet-meeting",
   "metadata": {},
   "outputs": [
    {
     "name": "stderr",
     "output_type": "stream",
     "text": [
      "<ipython-input-14-c7639fa74ec6>:4: RuntimeWarning: invalid value encountered in double_scalars\n",
      "  F_score[c] = (2 * precision[c] * recall[c]) / ( precision[c] + recall[c])\n"
     ]
    },
    {
     "data": {
      "text/plain": [
       "{'جامعه\\u200cشناسی': 0.31315240083507306,\n",
       " 'کلیات اسلام': 0.29213483146067415,\n",
       " 'داستان کودک و نوجوانان': 0.4646464646464646,\n",
       " 'داستان کوتاه': 0.05194805194805195,\n",
       " 'مدیریت و کسب و کار': 0.07692307692307693,\n",
       " 'رمان': nan}"
      ]
     },
     "execution_count": 21,
     "metadata": {},
     "output_type": "execute_result"
    }
   ],
   "source": [
    "F_score_s = F_score(precision_s, recall_s, categories)\n",
    "F_score_s"
   ]
  },
  {
   "cell_type": "code",
   "execution_count": 22,
   "id": "consistent-royalty",
   "metadata": {},
   "outputs": [
    {
     "name": "stdout",
     "output_type": "stream",
     "text": [
      "macro_F1 =  nan\n"
     ]
    },
    {
     "data": {
      "text/plain": [
       "nan"
      ]
     },
     "execution_count": 22,
     "metadata": {},
     "output_type": "execute_result"
    }
   ],
   "source": [
    "macro_F_s = Macro_F(F_score_s, categories)\n",
    "macro_F_s"
   ]
  },
  {
   "cell_type": "code",
   "execution_count": 23,
   "id": "smaller-installation",
   "metadata": {},
   "outputs": [
    {
     "name": "stdout",
     "output_type": "stream",
     "text": [
      "weighted_F1 =  nan\n"
     ]
    },
    {
     "data": {
      "text/plain": [
       "nan"
      ]
     },
     "execution_count": 23,
     "metadata": {},
     "output_type": "execute_result"
    }
   ],
   "source": [
    "Weighted_F_s = Weighted_F(data_test, F_score_s, categories)\n",
    "Weighted_F_s"
   ]
  },
  {
   "cell_type": "markdown",
   "id": "productive-clinton",
   "metadata": {},
   "source": [
    "فقط در حالت میکرو به دلیل این که دیگر تقسیم بر صفر نداریم دقت  همانند acc به دست می آید."
   ]
  },
  {
   "cell_type": "code",
   "execution_count": 24,
   "id": "played-cookie",
   "metadata": {},
   "outputs": [
    {
     "data": {
      "text/plain": [
       "0.2577777777777778"
      ]
     },
     "execution_count": 24,
     "metadata": {},
     "output_type": "execute_result"
    }
   ],
   "source": [
    "Micro_F_s = Micro_F(confusion_matrix_s, categories)\n",
    "Micro_F_s"
   ]
  },
  {
   "cell_type": "markdown",
   "id": "confident-utility",
   "metadata": {},
   "source": [
    "# نتایج با استفاده از smoothing:"
   ]
  },
  {
   "cell_type": "code",
   "execution_count": 25,
   "id": "copyrighted-greek",
   "metadata": {},
   "outputs": [
    {
     "data": {
      "text/html": [
       "<div>\n",
       "<style scoped>\n",
       "    .dataframe tbody tr th:only-of-type {\n",
       "        vertical-align: middle;\n",
       "    }\n",
       "\n",
       "    .dataframe tbody tr th {\n",
       "        vertical-align: top;\n",
       "    }\n",
       "\n",
       "    .dataframe thead th {\n",
       "        text-align: right;\n",
       "    }\n",
       "</style>\n",
       "<table border=\"1\" class=\"dataframe\">\n",
       "  <thead>\n",
       "    <tr style=\"text-align: right;\">\n",
       "      <th>col_0</th>\n",
       "      <th>جامعه‌شناسی</th>\n",
       "      <th>داستان کوتاه</th>\n",
       "      <th>داستان کودک و نوجوانان</th>\n",
       "      <th>رمان</th>\n",
       "      <th>مدیریت و کسب و کار</th>\n",
       "      <th>کلیات اسلام</th>\n",
       "    </tr>\n",
       "    <tr>\n",
       "      <th>categories</th>\n",
       "      <th></th>\n",
       "      <th></th>\n",
       "      <th></th>\n",
       "      <th></th>\n",
       "      <th></th>\n",
       "      <th></th>\n",
       "    </tr>\n",
       "  </thead>\n",
       "  <tbody>\n",
       "    <tr>\n",
       "      <th>جامعه‌شناسی</th>\n",
       "      <td>64</td>\n",
       "      <td>1</td>\n",
       "      <td>3</td>\n",
       "      <td>1</td>\n",
       "      <td>5</td>\n",
       "      <td>1</td>\n",
       "    </tr>\n",
       "    <tr>\n",
       "      <th>داستان کوتاه</th>\n",
       "      <td>4</td>\n",
       "      <td>49</td>\n",
       "      <td>9</td>\n",
       "      <td>11</td>\n",
       "      <td>1</td>\n",
       "      <td>1</td>\n",
       "    </tr>\n",
       "    <tr>\n",
       "      <th>داستان کودک و نوجوانان</th>\n",
       "      <td>0</td>\n",
       "      <td>3</td>\n",
       "      <td>68</td>\n",
       "      <td>2</td>\n",
       "      <td>0</td>\n",
       "      <td>2</td>\n",
       "    </tr>\n",
       "    <tr>\n",
       "      <th>رمان</th>\n",
       "      <td>7</td>\n",
       "      <td>12</td>\n",
       "      <td>4</td>\n",
       "      <td>50</td>\n",
       "      <td>1</td>\n",
       "      <td>1</td>\n",
       "    </tr>\n",
       "    <tr>\n",
       "      <th>مدیریت و کسب و کار</th>\n",
       "      <td>7</td>\n",
       "      <td>0</td>\n",
       "      <td>0</td>\n",
       "      <td>0</td>\n",
       "      <td>68</td>\n",
       "      <td>0</td>\n",
       "    </tr>\n",
       "    <tr>\n",
       "      <th>کلیات اسلام</th>\n",
       "      <td>10</td>\n",
       "      <td>1</td>\n",
       "      <td>2</td>\n",
       "      <td>0</td>\n",
       "      <td>0</td>\n",
       "      <td>62</td>\n",
       "    </tr>\n",
       "  </tbody>\n",
       "</table>\n",
       "</div>"
      ],
      "text/plain": [
       "col_0                   جامعه‌شناسی  داستان کوتاه  داستان کودک و نوجوانان  \\\n",
       "categories                                                                  \n",
       "جامعه‌شناسی                      64             1                       3   \n",
       "داستان کوتاه                      4            49                       9   \n",
       "داستان کودک و نوجوانان            0             3                      68   \n",
       "رمان                              7            12                       4   \n",
       "مدیریت و کسب و کار                7             0                       0   \n",
       "کلیات اسلام                      10             1                       2   \n",
       "\n",
       "col_0                   رمان  مدیریت و کسب و کار  کلیات اسلام  \n",
       "categories                                                     \n",
       "جامعه‌شناسی                1                   5            1  \n",
       "داستان کوتاه              11                   1            1  \n",
       "داستان کودک و نوجوانان     2                   0            2  \n",
       "رمان                      50                   1            1  \n",
       "مدیریت و کسب و کار         0                  68            0  \n",
       "کلیات اسلام                0                   0           62  "
      ]
     },
     "execution_count": 25,
     "metadata": {},
     "output_type": "execute_result"
    }
   ],
   "source": [
    "confusion_matrix_smooth = confusion_matrix(data_test, predictions)\n",
    "confusion_matrix_smooth"
   ]
  },
  {
   "cell_type": "code",
   "execution_count": 26,
   "id": "elder-husband",
   "metadata": {},
   "outputs": [
    {
     "data": {
      "text/plain": [
       "{'جامعه\\u200cشناسی': 0.8533333333333334,\n",
       " 'کلیات اسلام': 0.8266666666666667,\n",
       " 'داستان کودک و نوجوانان': 0.9066666666666666,\n",
       " 'داستان کوتاه': 0.6533333333333333,\n",
       " 'مدیریت و کسب و کار': 0.9066666666666666,\n",
       " 'رمان': 0.6666666666666666}"
      ]
     },
     "execution_count": 26,
     "metadata": {},
     "output_type": "execute_result"
    }
   ],
   "source": [
    "recall_smooth , precision_smooth = RP(confusion_matrix_smooth, categories)\n",
    "recall_smooth"
   ]
  },
  {
   "cell_type": "code",
   "execution_count": 27,
   "id": "domestic-satin",
   "metadata": {},
   "outputs": [
    {
     "data": {
      "text/plain": [
       "{'جامعه\\u200cشناسی': 0.6956521739130435,\n",
       " 'کلیات اسلام': 0.9253731343283582,\n",
       " 'داستان کودک و نوجوانان': 0.7906976744186046,\n",
       " 'داستان کوتاه': 0.7424242424242424,\n",
       " 'مدیریت و کسب و کار': 0.9066666666666666,\n",
       " 'رمان': 0.78125}"
      ]
     },
     "execution_count": 27,
     "metadata": {},
     "output_type": "execute_result"
    }
   ],
   "source": [
    "precision_smooth"
   ]
  },
  {
   "cell_type": "code",
   "execution_count": 28,
   "id": "figured-click",
   "metadata": {},
   "outputs": [
    {
     "data": {
      "text/plain": [
       "{'جامعه\\u200cشناسی': 0.7664670658682634,\n",
       " 'کلیات اسلام': 0.8732394366197183,\n",
       " 'داستان کودک و نوجوانان': 0.8447204968944099,\n",
       " 'داستان کوتاه': 0.6950354609929078,\n",
       " 'مدیریت و کسب و کار': 0.9066666666666666,\n",
       " 'رمان': 0.7194244604316546}"
      ]
     },
     "execution_count": 28,
     "metadata": {},
     "output_type": "execute_result"
    }
   ],
   "source": [
    "F_score_smooth = F_score(precision_smooth, recall_smooth, categories)\n",
    "F_score_smooth"
   ]
  },
  {
   "cell_type": "code",
   "execution_count": 29,
   "id": "accompanied-chick",
   "metadata": {},
   "outputs": [
    {
     "name": "stdout",
     "output_type": "stream",
     "text": [
      "macro_F1 =  0.8009255979122701\n"
     ]
    },
    {
     "data": {
      "text/plain": [
       "0.8009255979122701"
      ]
     },
     "execution_count": 29,
     "metadata": {},
     "output_type": "execute_result"
    }
   ],
   "source": [
    "macro_F_smooth = Macro_F(F_score_smooth, categories)\n",
    "macro_F_smooth"
   ]
  },
  {
   "cell_type": "code",
   "execution_count": 30,
   "id": "metallic-currency",
   "metadata": {},
   "outputs": [
    {
     "name": "stdout",
     "output_type": "stream",
     "text": [
      "weighted_F1 =  0.8031478201344924\n"
     ]
    },
    {
     "data": {
      "text/plain": [
       "0.8031478201344924"
      ]
     },
     "execution_count": 30,
     "metadata": {},
     "output_type": "execute_result"
    }
   ],
   "source": [
    "Weighted_F_smooth = Weighted_F(data_test, F_score_smooth, categories)\n",
    "Weighted_F_smooth"
   ]
  },
  {
   "cell_type": "code",
   "execution_count": 31,
   "id": "flying-guyana",
   "metadata": {},
   "outputs": [
    {
     "data": {
      "text/plain": [
       "0.8022222222222222"
      ]
     },
     "execution_count": 31,
     "metadata": {},
     "output_type": "execute_result"
    }
   ],
   "source": [
    "Micro_F_smooth = Micro_F(confusion_matrix_smooth, categories)\n",
    "Micro_F_smooth"
   ]
  },
  {
   "cell_type": "markdown",
   "id": "popular-carol",
   "metadata": {},
   "source": [
    "# سوال ۱۱)"
   ]
  },
  {
   "cell_type": "markdown",
   "id": "hundred-hearing",
   "metadata": {},
   "source": [
    "بدون استفاده از smoothing با استفاده از روش های میانگین گیری  weighted , macro مقدار f صفر به دست می آمد.\n",
    "یعنی در صورتی که استفاده نکردن از  smoothing  تاثیر زیادی بر دقت داشته باشد به صورتی که برای یک کلاس هیچ داده ای را درست تشخیص نداده باشد ، قطعا هم دقت پایین خواهد بود و هم  F score  ها مقداری نخواهند داشت.\n",
    "و همچنین اگر شرایط گفته شده پیش نیاید همه مقادیر محاسبه شده با هم برابر خواهد بود.  \n",
    "در روش با smoothing می توان این موضوع را مشاهده کرد."
   ]
  },
  {
   "cell_type": "markdown",
   "id": "unauthorized-raise",
   "metadata": {},
   "source": [
    "# سوال ۱۲)"
   ]
  },
  {
   "cell_type": "code",
   "execution_count": 32,
   "id": "norman-discussion",
   "metadata": {},
   "outputs": [
    {
     "name": "stdout",
     "output_type": "stream",
     "text": [
      "0  th data\n",
      "description: ['کآشوب', 'بیست', 'روایت', 'زندگی', 'همت', 'نفیسه', 'مرشدزاده', 'کآشوب', 'واقعی', 'مستند', 'امروز', 'سال', 'هجری', 'شهادت', 'مظلومانه', 'امام', 'حسین', 'نویسندگان', 'شغل', 'مختلف', 'قرار', 'لحن', 'توصیفی', 'خودشان', 'مجالس', 'گذشته', 'امروز', 'گزارش', 'دل', 'دست', 'شیفتگی', 'مجموعه', 'مداوم', 'اثری', 'عاشورا', 'محرم', 'تولید', 'تولد', 'هزارانی', 'پیشکش', 'روایت', 'هفتم', 'فراز', 'تپه', 'علی', 'غبیشاوی', 'شانزده', 'هفده', 'بودم', 'ماه', 'تابستان', 'تعطیلات', 'سال', 'نو', 'قم', 'کاری', 'نداشتیم', 'خوزستان', 'روستای', 'پدری', 'محرم', 'تعطیلات', 'محرم', 'قم', 'نبودیم', 'روز', 'داشتم', 'اتصالی', 'باندهای', 'حیاط', 'وصله', 'داشتم', 'میخ', 'عقبی', 'منبر', 'چکش', 'سر', 'جایش', 'بالای', 'نردبان', 'داشتم', 'تار', 'گوشه', 'حسینیه', 'چطور', 'ماه', 'قم', 'شوم', 'نامانوس', 'عزاداری', 'عربی', 'عادت', 'نداشتم', 'دلهره', 'داشتم', 'محرم', 'روز', 'عاشورا', 'برگشتم', 'قم', 'زندگی', 'خوزستان', 'کمتر', 'حضورم', 'شهر', 'منحصر', 'عربی', 'خانواده', 'روزمره', 'لغات', 'محدود', 'ساختار', 'زبان', 'پیچیده', 'نیمچه', 'فاخر', 'سخنران', 'سر', 'معنای', 'آخر', 'سخت', 'حاضران', 'توی', 'حسینیه', 'دست', 'پهنای', 'صورت', 'سر', 'گریبان', 'اشک', 'ناله', 'توریستی', 'شهری', 'غریب', 'وسط', 'بنشینی', 'زل', 'بزنی', 'دلیل', 'تأثرشان', 'درست', 'دقیق']\n",
      "predicted category:  رمان\n",
      "actual category:  داستان کوتاه\n",
      "3  th data\n",
      "description: ['حیوانات', 'جورج', 'اورول', 'حیوانات', 'اهلی', 'اقدامی', 'انقلابی', 'صاحب', 'مزرعه', 'جونز', 'فراری', 'خودشان', 'اداره', 'مزرعه', 'برابری', 'رفاه', 'جامعه', 'برقرار', 'سازند', 'رهبری', 'جنبش', 'مدتی', 'گروه', 'رهبری', 'خوکی', 'نام', 'ناپلئون', 'حیوانات', 'مزرعه', 'هرگونه', 'مخالفتی', 'سرکوب', 'اورول', 'عنوان', 'دموکرات', 'جنگ', 'داخلی', 'اسپانیا', 'حکومت', 'سوسیالیستی', 'شوروی', 'آشنا', 'دوران', 'استالین', 'خشمگین', 'نگارش', 'رمان', 'استبداد', 'طبقه', 'حاکم', 'شوروی', 'انتقاد', 'معتقد', 'نظام', 'شوروی', 'دیکتاتوری', 'برپایه', 'کیش', 'شخصیت', 'بنا', 'رمان', 'انقلاب', 'حیوانات', 'مزرعه', 'نماد', 'انقلاب', 'کارگری', 'سرنوشت', 'ضد', 'نظام', 'رمان', 'صبح', 'حیوانات', 'گرفتن', 'دستور', 'ناپلئون', 'اعلام', 'سیاست', 'جدیدی', 'اتخاذ', 'تاریخ', 'حیوانات', 'مزارع', 'مجاور', 'دادوستد', 'تجارت', 'مواد', 'آسیاب', 'بادی', 'مقدم', 'مقداری', 'یونجه', 'مقداری', 'گندم', 'پول', 'طریق', 'فروش', 'ولینگدن', 'بازار', 'تامین', 'ناپلئون', 'اضافه', 'فداکاری', 'کمک', 'شرکت', 'ساختمان', 'آسیاب', 'بادی', 'ست', 'استقبال', 'حیوانات', 'مبهمی', 'احساس', 'ناراحتی', 'ارتباط', 'نداشتن', 'بشر', 'پول', 'کار', 'نبردن', 'مگر', 'جزو', 'تصمیمات', 'اخراج', 'جونز', 'حیوانات', 'تصمیمات', 'خاطر', 'لااقل', 'تصور', 'خاطر']\n",
      "predicted category:  جامعه‌شناسی\n",
      "actual category:  رمان\n",
      "5  th data\n",
      "description: ['اسلام', 'چالش', 'اقتصادی', 'نوشته', 'محمد', 'عمر', 'چپرا', 'پاکستانی', 'اقتصاد', 'اسلامی', 'اقتصاد', 'اسلامی', 'کشورهای', 'اسلامی', 'عربستان', 'سعودی', 'پاکستان', 'مالزی', 'مصر', 'محمد', 'چپرا', 'صدیقی', 'منذر', 'قحف', 'خورشید', 'احمد', 'جمله', 'حوزه', 'اقتصاد', 'متعددی', 'اجرای', 'اقتصاد', 'اسلامی', 'زمینۀ', 'بانکداری', 'مؤسسات', 'متعددی', 'بانک', 'توسعه', 'اسلامی', 'المعهد', 'العالمی', 'للفکر', 'الاسلامی', 'هنگفتی', 'وقف', 'پژوهش', 'اقتصاد', 'اسلامی', 'مطالعات', 'اقتصاد', 'اسلامی', 'زمینه', 'پول', 'بانکداری', 'مالیه', 'اقتصاد', 'کلان', 'توسعه', 'اقتصادی', 'روز', 'روز', 'متعددی', 'موارد', 'نگاشته', 'کمتر', 'کتابی', 'تصویری', 'جامع', 'علمی', 'تحقق', 'کارآمد', 'مقایسه', 'مرسوم', 'دنیا', 'نظام', 'اقتصادی', 'اسلام', 'ارائه', 'تبیین', 'راهبرد', 'اصلاحات', 'نظام', 'موجود', 'نظام', 'مطلوب', 'اسلامی', 'بپردازد', 'کتاب', 'اسلام', 'اقتصادی', 'نوشتۀ', 'دکتر', 'محمدعمر', 'چپرا', 'دارا', 'دکتر', 'محمدسعید', 'النابلسی', 'رئیس', 'بانک', 'مرکزی', 'اردن', 'مقدمۀ', 'کتاب', 'کتاب', 'همکارم', 'دکتر', 'چپرا', 'نوشته', 'ابداع', 'علمی', 'معاصر', 'کوششی', 'روشی', 'مستحکم', 'استدلالی', 'منطقی', 'هدف', 'تأکید', 'شمولیت', 'دین', 'حنیف', 'اسلام', 'همۀ', 'ابعاد', 'حیات', 'انسانی', 'زمینۀ', 'اقتصادی', 'سیاسی', 'اجتماعی', 'اخلاقی', 'کتاب', 'حاضر', 'حرکت', 'علمی', 'آزموده', 'حرکت', 'فکری', 'منظمی', 'خروج', 'سلطۀ', 'اقتصاد', 'معاصر', 'نظام', 'اقتصادی', 'نظام', 'اسلامی']\n",
      "predicted category:  جامعه‌شناسی\n",
      "actual category:  کلیات اسلام\n",
      "12  th data\n",
      "description: ['رمان', 'تاریخی', 'زندانی', 'قلعه', 'قهقهه', 'سرگذشت', 'شاه', 'اسماعیل', 'صفوی', 'شاه', 'ایران', 'ق', 'داستان', 'مرادبیگ', 'نایب', 'الحکومه', 'قلعه', 'قهقهه', 'مردی', 'تندخو', 'زنی', 'زیبا', 'نام', 'قمر', 'سلطان', 'دختری', 'نام', 'گل', 'حرم', 'دوران', 'زندانی', 'قلعه', 'اسماعیل', 'میرزا', 'فرزند', 'شاه', 'تهماسب', 'تصمیم', 'ازدواج', 'شرایطی', 'عشق', 'کینه', 'دشمنی', 'اسماعیل', 'میرزا', 'قزوین', 'گذشت', 'قزوین', 'سفر', 'سفر', 'اتفاقات', 'گوناگونی', 'رخ', 'هریک', 'تازه', 'تصمیم', 'اسماعیل', 'بیابد', 'شاهزاده', 'رفتن', 'رخدادهای', 'گوناگون', 'فراهم', 'راستی', 'سرنوشت']\n",
      "predicted category:  داستان کودک و نوجوانان\n",
      "actual category:  داستان کوتاه\n",
      "20  th data\n",
      "description: ['فاطمه', 'علی', 'نوشته', 'علی', 'قهرمانی', 'کتابی', 'زندگی', 'مشترک', 'حضرت', 'زهرا', 'س', 'حضرت', 'علی', 'الگویی', 'زندگی', 'مشترک', 'زوج', 'های', 'جوان', 'گذشت', 'ایثار', 'همدلی', 'همراهی', 'عشق', 'مهرورزی', 'داستان', 'زندگی', 'آغاز', 'زندگی', 'مشترک', 'رسول', 'خدا', 'ص', 'آمدند', 'پیامبر', 'ص', 'معلم', 'زندگی', 'تدبیر', 'منزل', 'نوبت', 'کارهای', 'خانه', 'پیامبر', 'ص', 'پیشنهاد', 'فاطمه', 'س', 'کارهای', 'خانه', 'لبخند', 'لبان', 'فاطمه', 'س', 'چقدر', 'تقسیم', 'خوشحالم', 'کارهای', 'خانه', 'زهرا', 'س', 'خوشحال', 'راضی', 'سعادتمندی', 'زن', 'گذر', 'نگاه', 'نباشد', 'آرد', 'جو', 'گندم', 'پخت', 'نان', 'طبخ', 'آماده', 'غذا', 'دوش', 'فاطمه', 'س', 'کارهای', 'خانه', 'رسیدگی', 'علی', 'آب', 'خوردن', 'منزل', 'هیزم', 'خریدهای', 'خانه', 'انجام', 'غیره', 'کارهای', 'منزل', 'انجام', 'فرصتی', 'خانه', 'جارو', 'زهرایش', 'کارهای', 'خانه', 'کمک', 'روز', 'پیامبر', 'ص', 'مهمان', 'مهمان', 'زودتر', 'موعد', 'دختر', 'دامادش', 'دید', 'پاک', 'عدس', 'لبخندی', 'نشان', 'خرسندی', 'خوشحالی', 'خدا', 'مردی', 'کار', 'خانه', 'همسرش', 'کمک', 'موهای', 'بدنش', 'ثواب', 'عبادت']\n",
      "predicted category:  داستان کودک و نوجوانان\n",
      "actual category:  کلیات اسلام\n"
     ]
    }
   ],
   "source": [
    "for i in range(23):\n",
    "    if not data_test['categories'][i] == predictions[i]:\n",
    "        # i += 1\n",
    "        print(i, ' th data')\n",
    "        print('description:', data_test['description'][i])\n",
    "        print('predicted category: ', predictions[i])\n",
    "        print('actual category: ', data_test['categories'][i])"
   ]
  },
  {
   "cell_type": "markdown",
   "id": "rational-lewis",
   "metadata": {},
   "source": [
    "از طرفی طبیعی است که مثلا داستان کوتاه و رمان و داستان کودک و نوجوان شباهت هایی داشته باشند و تشخیص آن ها سخت تر باشد و دقت پایین تری داشته باشند.  \n",
    "و از طرف دیگر در مثال دوم مثلا: کتاب رمان جورج اورول رمانی است که محتوای اجتماعی دارد و تشخیص دسته بندی آن با استفاده از تعداد کمی کلمات دشوار است. به نظر می رسد در این مورد تعداد ویژگی کم  باعث این  misclassification  شده است. یعنی اگر تعداد بیشتری از کلمات این کتاب را در دسترس داشتیم احتمالا مدل ما متوجه می شد که مثلا نام حیوانات یا اسامی زیاد تکرار شده اند و شاید دیگر در دسته اجتماعی قرار نمی داد.  \n",
    "از طرف دیگر راه حلی که به نظرم می آید این است که تعداد تکرار در کلمه در خود نمونه تست را هم در نظر بگیریم و در تسخیص کلاس تاثیر بدهیم.  \n",
    "در مورد مثال آخر  به دلیل این که در کتاب های اسلامی سرگذشت هم داریم ممکن است منجر به پیش بینی کلاس اشتباه با داستان و رمان شود. در این مورد به نظر می رسد که مشکل از پیش پردازش داده ها بوده چون مثلا کلمه پیامبر در مدل برای کلاس کلیات اسلام به صورت زیر است:  \n",
    "  \n",
    "  پیامبر : 68  \n",
    "  پیامبران : 15  \n",
    "  پیامبرصلی : 3  \n",
    "  پیامبرش :2  \n",
    "  پیامبری : 2  \n",
    "  پیامبرت : 1 \n",
    "  \n",
    "   پیامبرانه: 1  \n",
    "   \n",
    "   در این مورد آخر احتمالا اگر  stemmer را در پیش پردازش داده ها انجام می دادم همه این کلمات به پیامبر ( یا پیام)  تبدیل می شدند و تعداد این کلمه در کلاس کلیات اسلام بیشتر می شد و در این صورت شاید احتمال این نمونه آموزشی که کلمه پیامبر را دارد  برای کلاس کلیات اسلام بزرگ تر می شد و کلاس اشتباهی را انتخاب نمی کرد."
   ]
  },
  {
   "cell_type": "markdown",
   "id": "black-covering",
   "metadata": {},
   "source": [
    "# نتیجه گیری"
   ]
  },
  {
   "cell_type": "markdown",
   "id": "indoor-acoustic",
   "metadata": {},
   "source": [
    " در text classification  پیش پپردازش داده ها بسیار اهمیت دارد. و همچنین باید حتما حواسمان به  داده های جدید باشد .  \n",
    " دقت را برای داده های تست ارزیابی کنیم و از صحت مدل اطمینان حاصل کنیم."
   ]
  },
  {
   "cell_type": "code",
   "execution_count": 33,
   "id": "rough-vessel",
   "metadata": {},
   "outputs": [
    {
     "data": {
      "text/plain": [
       "0"
      ]
     },
     "execution_count": 33,
     "metadata": {},
     "output_type": "execute_result"
    }
   ],
   "source": [
    "import os\n",
    "os.system('jupyter nbconvert --to html AI_CA3_810896059.ipynb')"
   ]
  }
 ],
 "metadata": {
  "kernelspec": {
   "display_name": "Python 3",
   "language": "python",
   "name": "python3"
  },
  "language_info": {
   "codemirror_mode": {
    "name": "ipython",
    "version": 3
   },
   "file_extension": ".py",
   "mimetype": "text/x-python",
   "name": "python",
   "nbconvert_exporter": "python",
   "pygments_lexer": "ipython3",
   "version": "3.8.10"
  }
 },
 "nbformat": 4,
 "nbformat_minor": 5
}
